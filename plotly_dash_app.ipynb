{
 "cells": [
  {
   "cell_type": "markdown",
   "metadata": {},
   "source": [
    "# **Space X  Falcon 9 First Stage Landing Prediction**\n"
   ]
  },
  {
   "cell_type": "markdown",
   "metadata": {},
   "source": [
    "# NoteBook 4: SpaceX Interactive Dashboard\n"
   ]
  },
  {
   "cell_type": "markdown",
   "metadata": {},
   "source": [
    "In this notebook, Plotly Dash, a powerful Python framework for building interactive web-based dashboards, was leveraged to create a dynamic and informative dashboard that visualizes launch sucess from varies Launch sites."
   ]
  },
  {
   "cell_type": "markdown",
   "metadata": {},
   "source": [
    "## Objectives"
   ]
  },
  {
   "cell_type": "markdown",
   "metadata": {},
   "source": [
    "Build a dashboard using Ploty Dash on detailed launch records.\n",
    "- Dropdown list to enable Launch Site selection\n",
    "- Pie chart to show the total successful launches count for all sites\n",
    "- Slider to select payload range\n",
    "- Render a scatter plot to display all values for variables Payload Mass (kg) and class.\n",
    "\n"
   ]
  },
  {
   "cell_type": "markdown",
   "metadata": {},
   "source": [
    "----"
   ]
  },
  {
   "cell_type": "markdown",
   "metadata": {},
   "source": [
    "## Import Libraries"
   ]
  },
  {
   "cell_type": "code",
   "execution_count": 56,
   "metadata": {},
   "outputs": [],
   "source": [
    "import pandas as pd\n",
    "\n",
    "import dash\n",
    "from dash import html\n",
    "from dash import dcc\n",
    "from dash.dependencies import Input, Output\n",
    "\n",
    "import plotly.express as px"
   ]
  },
  {
   "cell_type": "markdown",
   "metadata": {},
   "source": [
    "Read the Launch data into dataframe and set `Min` and `Max` Payload Mass for the `Slider`"
   ]
  },
  {
   "cell_type": "code",
   "execution_count": 57,
   "metadata": {},
   "outputs": [],
   "source": [
    "# Read the airline data into pandas dataframe\n",
    "spacex_df = pd.read_csv(\"data/spacex_launch_dash.csv\")\n",
    "\n",
    "#Minimum and maximum Payload masses for the range slider\n",
    "max_payload = spacex_df['Payload Mass (kg)'].max()\n",
    "min_payload = spacex_df['Payload Mass (kg)'].min()"
   ]
  },
  {
   "cell_type": "markdown",
   "metadata": {},
   "source": [
    "Create the App layout"
   ]
  },
  {
   "cell_type": "code",
   "execution_count": 58,
   "metadata": {},
   "outputs": [],
   "source": [
    "\n",
    "# Create a dash application\n",
    "app = dash.Dash(__name__)\n",
    "\n",
    "\n",
    "#Get the launch sites from the spacex_df dataframe to use in the dropdown list\n",
    "launch_sites = []\n",
    "launch_sites.append({'label': 'All Sites', 'value': 'All Sites'})\n",
    "for launch_site in spacex_df['Launch Site'].unique().tolist():\n",
    "    launch_sites.append({'label': launch_site, 'value': launch_site})\n",
    "\n",
    "# Create the app layout\n",
    "app.layout = html.Div(children=[html.H1('SpaceX Launch Records Dashboard',\n",
    "                                        style={'textAlign': 'center', 'color': '#503D36',\n",
    "                                               'font-size': 40}),\n",
    "\n",
    "                                # Add a dropdown list to enable Launch Site selection\n",
    "                                dcc.Dropdown(id='site-dropdown',\n",
    "                                            options = launch_sites,\n",
    "                                            value='All Sites',\n",
    "                                            placeholder=\"Launch Site\",\n",
    "                                            searchable=True\n",
    "                                            ),\n",
    "\n",
    "                                html.Br(),\n",
    "\n",
    "                                # Add a pie chart to show the total successful launches count for all sites\n",
    "                                # If a specific launch site was selected, show the Success vs. Failed counts for the site\n",
    "                                html.Div(dcc.Graph(id='success-pie-chart')), #this id will be used in the callback function to change the pie chart\n",
    "                                \n",
    "                                html.Br(),\n",
    "\n",
    "                                html.P(\"Payload range (Kg):\"),\n",
    "\n",
    "                                # Add a slider to select payload range\n",
    "                                dcc.RangeSlider(id='payload-slider',\n",
    "                                                min=0, max=10000, step=1000,\n",
    "                                                marks={0: '0', 2500: '2500', 5000: '5000', 7500: '7500', 10000: '10000'},\n",
    "                                                value=[min_payload, max_payload]),\n",
    "\n",
    "\n",
    "\n",
    "\n",
    "                                # Add a scatter chart to show the correlation between payload and launch success\n",
    "                                html.Div(dcc.Graph(id='success-payload-scatter-chart')),\n",
    "                                ])\n",
    "\n",
    "# Add a callback function for `site-dropdown` as input, `success-pie-chart` as output\n",
    "@app.callback(Output(component_id='success-pie-chart', component_property='figure'),\n",
    "            Input(component_id='site-dropdown', component_property='value'))\n",
    "\n",
    "def get_pie_chart(entered_site):\n",
    "    filtered_df = spacex_df[spacex_df['Launch Site'] == entered_site]\n",
    "    if entered_site == 'All Sites':\n",
    "        fig = px.pie(spacex_df, values='class', names='Launch Site', title='Total Success Launches by Site')\n",
    "        return fig\n",
    "    else:\n",
    "        # return the outcomes pie chart for a selected site\n",
    "        site_df = filtered_df.groupby(['Launch Site', 'class']).size().reset_index(name='class count')\n",
    "        fig = px.pie(site_df,values='class count',names='class',title=f'Total Success Launches for site {entered_site}')\n",
    "        return fig\n",
    "\n",
    "\n",
    "\n",
    "# Add a callback function for `site-dropdown` and `payload-slider` as inputs, `success-payload-scatter-chart` as output\n",
    "@app.callback(Output(component_id='success-payload-scatter-chart', component_property='figure'),\n",
    "            [Input(component_id='site-dropdown', component_property='value'), Input(component_id='payload-slider', component_property='value')]) #note the 2 inputs, so they are in a list\n",
    "\n",
    "\n",
    "def get_scatter_chart(entered_site, payload_slider):\n",
    "    low, high = payload_slider\n",
    "    slide=(spacex_df['Payload Mass (kg)'] > low) & (spacex_df['Payload Mass (kg)'] < high)\n",
    "    dropdown_scatter=spacex_df[slide]\n",
    "\n",
    "    #If All sites are selected, render a scatter plot to display all values for variables Payload Mass (kg) and class.\n",
    "    #Point colour is set to the booster version category\n",
    "    if entered_site == 'All Sites':\n",
    "        fig = px.scatter(\n",
    "            dropdown_scatter, x='Payload Mass (kg)', y='class',\n",
    "            hover_data=['Booster Version'],\n",
    "            color='Booster Version Category',\n",
    "            title='Correlation between Payload and Success for all Sites')\n",
    "        return fig\n",
    "    else:\n",
    "    #If a specific site is selected, filter the spacex_df dataframe first, then render a scatter plot to display the same as for all sites.\n",
    "        dropdown_scatter = dropdown_scatter[spacex_df['Launch Site'] == entered_site]\n",
    "        fig=px.scatter(\n",
    "            dropdown_scatter,x='Payload Mass (kg)', y='class', \n",
    "            hover_data=['Booster Version'],\n",
    "            color='Booster Version Category',\n",
    "            title = f'Success by Payload Size for site {entered_site}')\n",
    "        return fig\n"
   ]
  },
  {
   "cell_type": "markdown",
   "metadata": {},
   "source": [
    "Now, run the Plotly Dash App"
   ]
  },
  {
   "cell_type": "code",
   "execution_count": null,
   "metadata": {},
   "outputs": [],
   "source": [
    "# Run the app\n",
    "if __name__ == '__main__':\n",
    "    app.run_server()"
   ]
  },
  {
   "cell_type": "markdown",
   "metadata": {},
   "source": [
    "\n",
    "From the dashboard :    \n",
    "- KSCLC-39A had the most successful launches, with 41.7% of the total successful launches.\n",
    "- KSCLC-39A also had the highest rate of successful launches, with a 76.9% success rate.\n",
    "- The success for massive payloads (4000 – 10000 kg) is lower than that for low payloads (0 – 4000 kg).\n",
    "- Some booster types (v1.0 and B5) have not been launched with massive payloads."
   ]
  },
  {
   "cell_type": "markdown",
   "metadata": {},
   "source": [
    "--End of Notebook--"
   ]
  },
  {
   "cell_type": "markdown",
   "metadata": {},
   "source": [
    "# Next Steps:\n",
    "\n",
    "\n",
    "An interactive web-based dashboards was built in this notebook using Plotly Dash to visualizes launch success from varies Launch sites. Next, building a `Predictive model`, training and testing it."
   ]
  },
  {
   "cell_type": "markdown",
   "metadata": {},
   "source": [
    "----"
   ]
  }
 ],
 "metadata": {
  "kernelspec": {
   "display_name": "Python 3",
   "language": "python",
   "name": "python3"
  },
  "language_info": {
   "codemirror_mode": {
    "name": "ipython",
    "version": 3
   },
   "file_extension": ".py",
   "mimetype": "text/x-python",
   "name": "python",
   "nbconvert_exporter": "python",
   "pygments_lexer": "ipython3",
   "version": "3.11.1"
  },
  "orig_nbformat": 4
 },
 "nbformat": 4,
 "nbformat_minor": 2
}
